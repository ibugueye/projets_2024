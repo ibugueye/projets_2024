{
 "cells": [
  {
   "cell_type": "code",
   "execution_count": 1,
   "metadata": {},
   "outputs": [
    {
     "name": "stderr",
     "output_type": "stream",
     "text": [
      "Setting default log level to \"WARN\".\n",
      "To adjust logging level use sc.setLogLevel(newLevel). For SparkR, use setLogLevel(newLevel).\n",
      "                                                                                \r"
     ]
    },
    {
     "name": "stdout",
     "output_type": "stream",
     "text": [
      "+--------------------+--------------+--------------------+-----------------------+--------------------+\n",
      "|                path|         label|            features|standard_scale_features|        pca_features|\n",
      "+--------------------+--------------+--------------------+-----------------------+--------------------+\n",
      "|s3://ngor-yoff/Te...|    Watermelon|[0.01487588509917...|   [-0.7179758847444...|[-6.1051797642081...|\n",
      "|s3://ngor-yoff/Te...|    Watermelon|[0.07104229182004...|   [-0.6083942088385...|[-5.1358059500146...|\n",
      "|s3://ngor-yoff/Te...|Pineapple Mini|[0.0,4.1723289489...|   [-0.7469990057685...|[-10.883470681318...|\n",
      "|s3://ngor-yoff/Te...|Pineapple Mini|[0.0,4.6597709655...|   [-0.7469990057685...|[-5.1053482585690...|\n",
      "|s3://ngor-yoff/Te...|    Watermelon|[0.00825151987373...|   [-0.7309001411744...|[-3.4430835379807...|\n",
      "|s3://ngor-yoff/Te...|    Watermelon|[0.0,0.2746154069...|   [-0.7469990057685...|[-0.5512291179439...|\n",
      "|s3://ngor-yoff/Te...|     Raspberry|[0.03869540989398...|   [-0.6715035608289...|[-1.6638116032262...|\n",
      "|s3://ngor-yoff/Te...|   Cauliflower|[0.0,0.5575997233...|   [-0.7469990057685...|[-3.7828199000510...|\n",
      "|s3://ngor-yoff/Te...|   Cauliflower|[0.0,0.8316052556...|   [-0.7469990057685...|[-3.1840693594234...|\n",
      "|s3://ngor-yoff/Te...|     Pineapple|[0.0,3.5644376277...|   [-0.7469990057685...|[-9.5307185021043...|\n",
      "|s3://ngor-yoff/Te...|     Pineapple|[0.00830239988863...|   [-0.7308008733446...|[-9.6648524992022...|\n",
      "|s3://ngor-yoff/Te...|     Pineapple|[0.0,4.0233659744...|   [-0.7469990057685...|[-8.4923513999398...|\n",
      "|s3://ngor-yoff/Te...|   Cauliflower|[0.0,0.3262555003...|   [-0.7469990057685...|[-6.6387534473007...|\n",
      "|s3://ngor-yoff/Te...|Pineapple Mini|[0.0,4.8278598785...|   [-0.7469990057685...|[-8.5426058640954...|\n",
      "|s3://ngor-yoff/Te...|   Onion White|[0.0,0.0442409664...|   [-0.7469990057685...|[-8.5924177912406...|\n",
      "|s3://ngor-yoff/Te...|Pineapple Mini|[0.0,4.7213129997...|   [-0.7469990057685...|[-8.9211728458688...|\n",
      "|s3://ngor-yoff/Te...|     Raspberry|[0.47354778647422...|   [0.17690129501549...|[2.92074957361591...|\n",
      "|s3://ngor-yoff/Te...|   Onion White|[0.06173849105834...|   [-0.6265460924871...|[-2.7786745741520...|\n",
      "|s3://ngor-yoff/Te...|        Lychee|[1.10436165332794...|   [1.40763056452420...|[-8.6116628851722...|\n",
      "|s3://ngor-yoff/Te...|        Lychee|[0.59805363416671...|   [0.41981445693505...|[-6.1353041583971...|\n",
      "+--------------------+--------------+--------------------+-----------------------+--------------------+\n",
      "only showing top 20 rows\n",
      "\n"
     ]
    }
   ],
   "source": [
    "from pyspark.sql import SparkSession\n",
    "\n",
    "# Initialisation de la session Spark\n",
    "spark = SparkSession.builder \\\n",
    "    .appName(\"Data Processing with Spark\") \\\n",
    "    .getOrCreate()\n",
    "\n",
    "# Lecture des fichiers Parquet depuis le dossier spécifié\n",
    "input_path = '/home/ibugueye/livrables/ngor_yoff_results_last/*.parquet'\n",
    "df = spark.read.parquet(input_path)\n",
    "\n",
    "# Exemple de traitement : Afficher les premières lignes du DataFrame\n",
    "df.show()\n",
    "\n"
   ]
  },
  {
   "cell_type": "code",
   "execution_count": 9,
   "metadata": {},
   "outputs": [
    {
     "name": "stderr",
     "output_type": "stream",
     "text": [
      "                                                                                \r"
     ]
    }
   ],
   "source": [
    "\n",
    "# Traitement des données (exemple : filtre)\n",
    "df_filtered = df.filter(df['label'] > 1)\n",
    "\n",
    "# Sauvegarde du résultat dans un nouveau fichier Parquet\n",
    "output_path = '/home/ibugueye/livrables/ngor_yoff_results_last/processed_results1.parquet'\n",
    "df_filtered.write.parquet(output_path)\n",
    "\n",
    "# Arrêt de la session Spark\n",
    " "
   ]
  },
  {
   "cell_type": "code",
   "execution_count": null,
   "metadata": {},
   "outputs": [],
   "source": [
    " "
   ]
  },
  {
   "cell_type": "code",
   "execution_count": null,
   "metadata": {},
   "outputs": [],
   "source": []
  }
 ],
 "metadata": {
  "kernelspec": {
   "display_name": "Python 3",
   "language": "python",
   "name": "python3"
  },
  "language_info": {
   "codemirror_mode": {
    "name": "ipython",
    "version": 3
   },
   "file_extension": ".py",
   "mimetype": "text/x-python",
   "name": "python",
   "nbconvert_exporter": "python",
   "pygments_lexer": "ipython3",
   "version": "3.10.12"
  }
 },
 "nbformat": 4,
 "nbformat_minor": 2
}
